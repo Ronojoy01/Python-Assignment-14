{
 "cells": [
  {
   "cell_type": "raw",
   "id": "65c24087",
   "metadata": {},
   "source": [
    " Assignment_14"
   ]
  },
  {
   "cell_type": "raw",
   "id": "d55d7dc6",
   "metadata": {},
   "source": [
    " 1. What does RGBA stand for?\n",
    " Ans - An RGBA value is a tuple of 4 integers, each ranging from 0 to 255. The four integers correspond to the amount of red, green, blue, and alpha (transparency) in the color."
   ]
  },
  {
   "cell_type": "raw",
   "id": "7509310f",
   "metadata": {},
   "source": [
    " 2. From the Pillow module, how do you get the RGBA value of any images?\n",
    "Ans - A function call to ImageColor.getcolor('CornflowerBlue', 'RGBA') will return (100, 149, 237, 255), the RGBA value for that color."
   ]
  },
  {
   "cell_type": "raw",
   "id": "4f0da9b4",
   "metadata": {},
   "source": [
    " 3. What is a box tuple, and how does it work?\n",
    "Ans - A box tuple is a tuple value of four integers: the left-edge x-coordinate, the top-edge y-coordinate, the width, and the height, respectively."
   ]
  },
  {
   "cell_type": "raw",
   "id": "e9eefd18",
   "metadata": {},
   "source": [
    " 4. Use your image and load in notebook then, How can you find out the width and height of an Image object?\n",
    "Ans - imageObj.size is a tuple of two integers, the width and the height."
   ]
  },
  {
   "cell_type": "raw",
   "id": "6efbc161",
   "metadata": {},
   "source": [
    " 5. What method would you call to get Image object for a 100×100 image, excluding the lower-left quarter of it?\n",
    "Ans - imageObj.crop((0, 50, 50, 50)). Notice that you are passing a box tuple to crop(), not four separate integer arguments."
   ]
  },
  {
   "cell_type": "raw",
   "id": "ff2e4b02",
   "metadata": {},
   "source": [
    " 6. After making changes to an Image object, how could you save it as an image file?\n",
    "Ans - Call the imageObj.save('new_filename.png') method of the Image object."
   ]
  },
  {
   "cell_type": "raw",
   "id": "09be8dea",
   "metadata": {},
   "source": [
    " 7. What module contains Pillow’s shape-drawing code?\n",
    "Ans - The ImageDraw module contains code to draw on images."
   ]
  },
  {
   "cell_type": "raw",
   "id": "c4394857",
   "metadata": {},
   "source": [
    "8. Image objects do not have drawing methods. What kind of object does? How do you get this kind of object?\n",
    "\n",
    "Ans - ImageDraw objects have shape-drawing methods such as point(), line(), or rectangle(). They are returned by passing the Image object to the ImageDraw.Draw() function."
   ]
  }
 ],
 "metadata": {
  "kernelspec": {
   "display_name": "Python 3 (ipykernel)",
   "language": "python",
   "name": "python3"
  },
  "language_info": {
   "codemirror_mode": {
    "name": "ipython",
    "version": 3
   },
   "file_extension": ".py",
   "mimetype": "text/x-python",
   "name": "python",
   "nbconvert_exporter": "python",
   "pygments_lexer": "ipython3",
   "version": "3.9.7"
  }
 },
 "nbformat": 4,
 "nbformat_minor": 5
}
